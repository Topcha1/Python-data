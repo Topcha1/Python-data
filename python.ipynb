{
 "cells": [
  {
   "cell_type": "code",
   "execution_count": null,
   "metadata": {},
   "outputs": [],
   "source": [
    "import pandas as pd\n",
    "import numpy as np\n",
    "import matplotlib.pyplot as plt"
   ]
  },
  {
   "cell_type": "code",
   "execution_count": null,
   "metadata": {},
   "outputs": [],
   "source": [
    "df = pd.read_csv('data/survey_results_public.csv')\n",
    "schema_df = pd.read_csv('data/survey_results_schema.csv')"
   ]
  },
  {
   "cell_type": "code",
   "execution_count": null,
   "metadata": {},
   "outputs": [],
   "source": [
    "schema_df\n"
   ]
  },
  {
   "cell_type": "code",
   "execution_count": null,
   "metadata": {},
   "outputs": [],
   "source": [
    "df.columns"
   ]
  },
  {
   "cell_type": "code",
   "execution_count": null,
   "metadata": {},
   "outputs": [],
   "source": [
    "df = pd.read_csv('data/survey_results_public.csv', index_col='ResponseId')\n",
    "schema_df = pd.read_csv('data/survey_results_schema.csv', index_col='qid')"
   ]
  },
  {
   "cell_type": "code",
   "execution_count": null,
   "metadata": {},
   "outputs": [],
   "source": [
    "pd.set_option('display.max_columns', 20)\n",
    "pd.set_option('display.max_rows', 20)\n",
    "df.head()"
   ]
  },
  {
   "cell_type": "code",
   "execution_count": null,
   "metadata": {},
   "outputs": [],
   "source": [
    "age_filter = (df['Age'] < \"30\")\n",
    "employment_filter = (df['Employment'] == 'Employed, full-time')\n",
    "\n",
    "filtered_data = df[age_filter & employment_filter]\n",
    "\n",
    "print(filtered_data)"
   ]
  },
  {
   "cell_type": "code",
   "execution_count": null,
   "metadata": {},
   "outputs": [],
   "source": [
    "sorted_data = df.sort_values(by=['Age', 'Employment'])\n",
    "\n",
    "print(sorted_data)"
   ]
  },
  {
   "cell_type": "code",
   "execution_count": null,
   "metadata": {},
   "outputs": [],
   "source": [
    "mean_compensation = df['ConvertedCompYearly'].mean()\n",
    "std_dev_compensation = df['ConvertedCompYearly'].std()\n",
    "median_compensation = df['ConvertedCompYearly'].median()\n",
    "min_compensation = df['ConvertedCompYearly'].min()\n",
    "max_compensation = df['ConvertedCompYearly'].max()\n",
    "\n",
    "\n",
    "mean_work_experience = df['WorkExp'].mean()\n",
    "std_dev_work_experience = df['WorkExp'].std()\n",
    "median_work_experience = df['WorkExp'].median()\n",
    "min_work_experience = df['WorkExp'].min()\n",
    "max_work_experience = df['WorkExp'].max()\n",
    "\n",
    "\n",
    "print(\"Statistics for 'ConvertedCompYearly':\")\n",
    "print(f\"Mean Compensation: {mean_compensation}\")\n",
    "print(f\"Standard Deviation Compensation: {std_dev_compensation}\")\n",
    "print(f\"Median Compensation: {median_compensation}\")\n",
    "print(f\"Minimum Compensation: {min_compensation}\")\n",
    "print(f\"Maximum Compensation: {max_compensation}\")\n",
    "\n",
    "\n",
    "print(\"Statistics for 'WorkExp':\")\n",
    "print(f\"Mean Work Experience: {mean_work_experience}\")\n",
    "print(f\"Standard Deviation Work Experience: {std_dev_work_experience}\")\n",
    "print(f\"Median Work Experience: {median_work_experience}\")\n",
    "print(f\"Minimum Work Experience: {min_work_experience}\")\n",
    "print(f\"Maximum Work Experience: {max_work_experience}\")"
   ]
  },
  {
   "cell_type": "code",
   "execution_count": null,
   "metadata": {},
   "outputs": [],
   "source": [
    "age_counts = df['Age'].value_counts()\n",
    "\n",
    "\n",
    "total_responses = len(df)\n",
    "age_percentages = (age_counts / total_responses) * 100\n",
    "\n",
    "plt.figure(figsize=(10, 6))\n",
    "age_percentages.plot(kind='bar', color='skyblue')\n",
    "plt.xlabel('Age Group')\n",
    "plt.ylabel('Percentage of Respondents')\n",
    "plt.title('Percentage of Responses from Various Age Groups in the Stack Overflow 2023 Survey')"
   ]
  }
 ],
 "metadata": {
  "language_info": {
   "name": "python"
  }
 },
 "nbformat": 4,
 "nbformat_minor": 2
}
